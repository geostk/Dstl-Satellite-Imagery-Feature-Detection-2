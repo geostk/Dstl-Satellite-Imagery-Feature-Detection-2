{
 "cells": [
  {
   "cell_type": "markdown",
   "metadata": {},
   "source": [
    "# View all raster data"
   ]
  },
  {
   "cell_type": "code",
   "execution_count": 5,
   "metadata": {
    "collapsed": false
   },
   "outputs": [
    {
     "name": "stderr",
     "output_type": "stream",
     "text": [
      "Using Theano backend.\n"
     ]
    }
   ],
   "source": [
    "from collections import defaultdict\n",
    "import csv\n",
    "import sys\n",
    "import time\n",
    "import gdal\n",
    "from shapely.geometry import MultiPolygon, Polygon\n",
    "import shapely.wkt\n",
    "import shapely.affinity\n",
    "import numpy as np\n",
    "import tifffile as tiff\n",
    "import pandas as pd\n",
    "from descartes.patch import PolygonPatch\n",
    "\n",
    "\n",
    "import matplotlib.pyplot as plt\n",
    "%matplotlib inline \n",
    "\n",
    "\n",
    "from sklearn.linear_model import SGDClassifier, RidgeClassifier, LogisticRegression\n",
    "from sklearn.ensemble import RandomForestClassifier\n",
    "from sklearn.preprocessing import StandardScaler\n",
    "from sklearn.pipeline import make_pipeline\n",
    "from sklearn.model_selection import cross_val_predict\n",
    "from sklearn.metrics import average_precision_score, roc_auc_score\n",
    "import os\n",
    "import cv2\n",
    "from shapely.wkt import loads as wkt_loads\n",
    "from matplotlib.patches import Patch\n",
    "import matplotlib.pyplot as plt\n",
    "import numpy as np\n",
    "import cv2\n",
    "import pandas as pd\n",
    "from shapely.wkt import loads as wkt_loads\n",
    "import tifffile as tiff\n",
    "import os\n",
    "import random\n",
    "from keras.models import Model\n",
    "from keras.layers import Input, merge, Convolution2D, MaxPooling2D, UpSampling2D, Reshape, core, Dropout\n",
    "from keras.optimizers import Adam\n",
    "from keras.callbacks import ModelCheckpoint, LearningRateScheduler\n",
    "from keras import backend as K\n",
    "from sklearn.metrics import jaccard_similarity_score\n",
    "from shapely.geometry import MultiPolygon, Polygon\n",
    "import shapely.wkt\n",
    "import shapely.affinity\n",
    "from collections import defaultdict\n",
    "\n",
    "import xgboost as xgb\n",
    "\n",
    "\n",
    "\n"
   ]
  },
  {
   "cell_type": "code",
   "execution_count": 6,
   "metadata": {
    "collapsed": true
   },
   "outputs": [],
   "source": [
    "from __future__ import division"
   ]
  },
  {
   "cell_type": "markdown",
   "metadata": {},
   "source": [
    "# Overview, \n",
    "3 bands     3396*3349*3\n",
    "Pancromatic  450-800nm     0.31m     pixel 3391*3348\n",
    "8 multispectral  400-1040nm     1.24m     pixel  848*837*8\n",
    "8 SWIR 1195-2365nm      7.5m    pixel   136*134*8\n",
    "\n"
   ]
  },
  {
   "cell_type": "code",
   "execution_count": 7,
   "metadata": {
    "collapsed": true
   },
   "outputs": [],
   "source": [
    "gridsize = pd.read_csv('satellite_image/grid_sizes.csv',names=['ImageId', 'Xmax', 'Ymin'], skiprows=1)\n",
    "train_wkt = pd.read_csv('satellite_image/train_wkt_v4.csv')\n",
    "sample_submission = pd.read_csv('satellite_image/sample_submission.csv')\n",
    "all_image_ids = gridsize.ImageId.unique()\n",
    "train_image_ids = train_wkt.ImageId.unique()\n",
    "test_image_ids = sample_submission.ImageId.unique()"
   ]
  },
  {
   "cell_type": "code",
   "execution_count": 9,
   "metadata": {
    "collapsed": false
   },
   "outputs": [
    {
     "name": "stdout",
     "output_type": "stream",
     "text": [
      "['6040_2_2' '6120_2_2' '6120_2_0' '6090_2_0' '6040_1_3' '6040_1_0'\n",
      " '6100_1_3' '6010_4_2' '6110_4_0' '6140_3_1' '6110_1_2' '6100_2_3'\n",
      " '6150_2_3' '6160_2_1' '6140_1_2' '6110_3_1' '6010_4_4' '6170_2_4'\n",
      " '6170_4_1' '6170_0_4' '6060_2_3' '6070_2_3' '6010_1_2' '6040_4_4'\n",
      " '6100_2_2'] <type 'numpy.ndarray'>\n"
     ]
    }
   ],
   "source": [
    "print train_image_ids, type (train_image_ids)"
   ]
  },
  {
   "cell_type": "code",
   "execution_count": 12,
   "metadata": {
    "collapsed": true
   },
   "outputs": [],
   "source": [
    "train_list = train_image_ids.tolist()"
   ]
  },
  {
   "cell_type": "code",
   "execution_count": 54,
   "metadata": {
    "collapsed": false
   },
   "outputs": [
    {
     "data": {
      "text/plain": [
       "19"
      ]
     },
     "execution_count": 54,
     "metadata": {},
     "output_type": "execute_result"
    }
   ],
   "source": [
    "train_list.index('6170_0_4')"
   ]
  },
  {
   "cell_type": "code",
   "execution_count": 17,
   "metadata": {
    "collapsed": false
   },
   "outputs": [
    {
     "data": {
      "text/plain": [
       "'/Users/tianbaili/Desktop/data science/kaggle'"
      ]
     },
     "execution_count": 17,
     "metadata": {},
     "output_type": "execute_result"
    }
   ],
   "source": [
    "os.getcwd()"
   ]
  },
  {
   "cell_type": "code",
   "execution_count": 19,
   "metadata": {
    "collapsed": true
   },
   "outputs": [],
   "source": [
    "from gdalconst import *"
   ]
  },
  {
   "cell_type": "code",
   "execution_count": 42,
   "metadata": {
    "collapsed": false
   },
   "outputs": [
    {
     "name": "stdout",
     "output_type": "stream",
     "text": [
      "848 x 837 x 8\n"
     ]
    }
   ],
   "source": [
    "from gdalconst import *\n",
    "#current path '/Users/tianbaili/Desktop/data science/kaggle'\n",
    "#filename = os.path.join( 'satellite_image', 'three_band', '{}.tif'.format(image_id))\n",
    "#img_filename_3bands = os.getcwd() + '/satellite_image/three_band/6010_0_0.tif'\n",
    "\n",
    "#filename_3bands = os.getcwd() + '/satellite_image/three_band/6040_2_2.tif'\n",
    "\n",
    "filename_3bands = os.path.join ('satellite_image', 'sixteen_band', '{}.tif'.format('6040_2_2'+'_M'))\n",
    "datasetA1 = gdal.Open(filename_3bands, GA_ReadOnly)\n",
    "\n",
    "print datasetA1.RasterXSize, 'x', datasetA1.RasterYSize, 'x' ,datasetA1.RasterCount"
   ]
  },
  {
   "cell_type": "code",
   "execution_count": 25,
   "metadata": {
    "collapsed": false
   },
   "outputs": [
    {
     "name": "stdout",
     "output_type": "stream",
     "text": [
      "3391 x 3349 x 3\n"
     ]
    }
   ],
   "source": [
    "from gdalconst import *\n",
    "#current path '/Users/tianbaili/Desktop/data science/kaggle'\n",
    "#filename = os.path.join( 'satellite_image', 'three_band', '{}.tif'.format(image_id))\n",
    "#img_filename_3bands = os.getcwd() + '/satellite_image/three_band/6010_0_0.tif'\n",
    "\n",
    "filename_3bands = os.getcwd() + '/satellite_image/three_band/6040_2_2.tif'\n",
    "\n",
    "#filename_3bands = os.path.join ('satellite_image', 'three_band', '{}.tif'.format('6040_2_2'))\n",
    "datasetA1 = gdal.Open(filename_3bands, GA_ReadOnly)\n",
    "\n",
    "print datasetA1.RasterXSize, 'x', datasetA1.RasterYSize, 'x' ,datasetA1.RasterCount"
   ]
  },
  {
   "cell_type": "code",
   "execution_count": 49,
   "metadata": {
    "collapsed": false
   },
   "outputs": [],
   "source": [
    "def view_rastersize (image_id):\n",
    "    filename_3bands = os.path.join ('satellite_image', 'three_band', '{}.tif'.format(image_id))\n",
    "    filename_Mbands = os.path.join ('satellite_image', 'sixteen_band', '{}.tif'.format(image_id + '_M'))\n",
    "    filename_Abands = os.path.join ('satellite_image', 'sixteen_band', '{}.tif'.format(image_id + '_A'))\n",
    "    filename_Pbands = os.path.join ('satellite_image', 'sixteen_band', '{}.tif'.format(image_id + '_P'))\n",
    "    data_3bands = gdal.Open(filename_3bands, GA_ReadOnly)\n",
    "    data_Mbands = gdal.Open(filename_Mbands, GA_ReadOnly)\n",
    "    data_Abands = gdal.Open(filename_Abands, GA_ReadOnly)\n",
    "    data_Pbands = gdal.Open(filename_Pbands, GA_ReadOnly)\n",
    "   \n",
    "    print ('3 bands raster size for %s' %(image_id))\n",
    "    print data_3bands.RasterXSize, 'x', data_3bands.RasterYSize, 'x' ,data_3bands.RasterCount\n",
    "    print '\\n'\n",
    "    print ('M bands raster size for %s' %(image_id))\n",
    "    print data_Mbands.RasterXSize, 'x' , data_Mbands.RasterYSize, 'x', data_Mbands.RasterCount\n",
    "    print '\\n'\n",
    "    print ('A bands raster size for %s' %(image_id))\n",
    "    print data_Abands.RasterXSize, 'x' , data_Abands.RasterYSize, 'x', data_Abands.RasterCount\n",
    "    print '\\n'\n",
    "    print ('p bands raster size for %s' %(image_id))\n",
    "    print data_Pbands.RasterXSize, 'x' , data_Pbands.RasterYSize, 'x', data_Pbands.RasterCount\n",
    "    \n",
    "    \n",
    "    "
   ]
  },
  {
   "cell_type": "code",
   "execution_count": 53,
   "metadata": {
    "collapsed": false
   },
   "outputs": [
    {
     "name": "stdout",
     "output_type": "stream",
     "text": [
      "Show rastersize for all 25 training images\n",
      "\n",
      "3 bands raster size for 6040_2_2\n",
      "3391 x 3349 x 3\n",
      "\n",
      "\n",
      "M bands raster size for 6040_2_2\n",
      "848 x 837 x 8\n",
      "\n",
      "\n",
      "A bands raster size for 6040_2_2\n",
      "136 x 134 x 8\n",
      "\n",
      "\n",
      "p bands raster size for 6040_2_2\n",
      "3391 x 3348 x 1\n",
      "\n",
      "\n",
      "3 bands raster size for 6120_2_2\n",
      "3403 x 3348 x 3\n",
      "\n",
      "\n",
      "M bands raster size for 6120_2_2\n",
      "851 x 837 x 8\n",
      "\n",
      "\n",
      "A bands raster size for 6120_2_2\n",
      "137 x 134 x 8\n",
      "\n",
      "\n",
      "p bands raster size for 6120_2_2\n",
      "3403 x 3348 x 1\n",
      "\n",
      "\n",
      "3 bands raster size for 6120_2_0\n",
      "3403 x 3348 x 3\n",
      "\n",
      "\n",
      "M bands raster size for 6120_2_0\n",
      "851 x 837 x 8\n",
      "\n",
      "\n",
      "A bands raster size for 6120_2_0\n",
      "137 x 134 x 8\n",
      "\n",
      "\n",
      "p bands raster size for 6120_2_0\n",
      "3403 x 3348 x 1\n",
      "\n",
      "\n",
      "3 bands raster size for 6090_2_0\n",
      "3393 x 3349 x 3\n",
      "\n",
      "\n",
      "M bands raster size for 6090_2_0\n",
      "848 x 837 x 8\n",
      "\n",
      "\n",
      "A bands raster size for 6090_2_0\n",
      "136 x 134 x 8\n",
      "\n",
      "\n",
      "p bands raster size for 6090_2_0\n",
      "3392 x 3348 x 1\n",
      "\n",
      "\n",
      "3 bands raster size for 6040_1_3\n",
      "3391 x 3349 x 3\n",
      "\n",
      "\n",
      "M bands raster size for 6040_1_3\n",
      "848 x 837 x 8\n",
      "\n",
      "\n",
      "A bands raster size for 6040_1_3\n",
      "136 x 134 x 8\n",
      "\n",
      "\n",
      "p bands raster size for 6040_1_3\n",
      "3391 x 3348 x 1\n",
      "\n",
      "\n",
      "3 bands raster size for 6040_1_0\n",
      "3391 x 3349 x 3\n",
      "\n",
      "\n",
      "M bands raster size for 6040_1_0\n",
      "848 x 837 x 8\n",
      "\n",
      "\n",
      "A bands raster size for 6040_1_0\n",
      "136 x 134 x 8\n",
      "\n",
      "\n",
      "p bands raster size for 6040_1_0\n",
      "3391 x 3348 x 1\n",
      "\n",
      "\n",
      "3 bands raster size for 6100_1_3\n",
      "3391 x 3349 x 3\n",
      "\n",
      "\n",
      "M bands raster size for 6100_1_3\n",
      "848 x 837 x 8\n",
      "\n",
      "\n",
      "A bands raster size for 6100_1_3\n",
      "136 x 134 x 8\n",
      "\n",
      "\n",
      "p bands raster size for 6100_1_3\n",
      "3391 x 3348 x 1\n",
      "\n",
      "\n",
      "3 bands raster size for 6010_4_2\n",
      "3396 x 3345 x 3\n",
      "\n",
      "\n",
      "M bands raster size for 6010_4_2\n",
      "849 x 837 x 8\n",
      "\n",
      "\n",
      "A bands raster size for 6010_4_2\n",
      "136 x 134 x 8\n",
      "\n",
      "\n",
      "p bands raster size for 6010_4_2\n",
      "3396 x 3348 x 1\n",
      "\n",
      "\n",
      "3 bands raster size for 6110_4_0\n",
      "3396 x 3348 x 3\n",
      "\n",
      "\n",
      "M bands raster size for 6110_4_0\n",
      "849 x 837 x 8\n",
      "\n",
      "\n",
      "A bands raster size for 6110_4_0\n",
      "136 x 134 x 8\n",
      "\n",
      "\n",
      "p bands raster size for 6110_4_0\n",
      "3396 x 3348 x 1\n",
      "\n",
      "\n",
      "3 bands raster size for 6140_3_1\n",
      "3396 x 3348 x 3\n",
      "\n",
      "\n",
      "M bands raster size for 6140_3_1\n",
      "849 x 837 x 8\n",
      "\n",
      "\n",
      "A bands raster size for 6140_3_1\n",
      "136 x 134 x 8\n",
      "\n",
      "\n",
      "p bands raster size for 6140_3_1\n",
      "3396 x 3348 x 1\n",
      "\n",
      "\n",
      "3 bands raster size for 6110_1_2\n",
      "3396 x 3348 x 3\n",
      "\n",
      "\n",
      "M bands raster size for 6110_1_2\n",
      "849 x 837 x 8\n",
      "\n",
      "\n",
      "A bands raster size for 6110_1_2\n",
      "136 x 134 x 8\n",
      "\n",
      "\n",
      "p bands raster size for 6110_1_2\n",
      "3396 x 3348 x 1\n",
      "\n",
      "\n",
      "3 bands raster size for 6100_2_3\n",
      "3391 x 3349 x 3\n",
      "\n",
      "\n",
      "M bands raster size for 6100_2_3\n",
      "848 x 837 x 8\n",
      "\n",
      "\n",
      "A bands raster size for 6100_2_3\n",
      "136 x 134 x 8\n",
      "\n",
      "\n",
      "p bands raster size for 6100_2_3\n",
      "3391 x 3348 x 1\n",
      "\n",
      "\n",
      "3 bands raster size for 6150_2_3\n",
      "3403 x 3348 x 3\n",
      "\n",
      "\n",
      "M bands raster size for 6150_2_3\n",
      "851 x 837 x 8\n",
      "\n",
      "\n",
      "A bands raster size for 6150_2_3\n",
      "137 x 134 x 8\n",
      "\n",
      "\n",
      "p bands raster size for 6150_2_3\n",
      "3403 x 3348 x 1\n",
      "\n",
      "\n",
      "3 bands raster size for 6160_2_1\n",
      "3393 x 3349 x 3\n",
      "\n",
      "\n",
      "M bands raster size for 6160_2_1\n",
      "848 x 837 x 8\n",
      "\n",
      "\n",
      "A bands raster size for 6160_2_1\n",
      "136 x 134 x 8\n",
      "\n",
      "\n",
      "p bands raster size for 6160_2_1\n",
      "3392 x 3348 x 1\n",
      "\n",
      "\n",
      "3 bands raster size for 6140_1_2\n",
      "3396 x 3348 x 3\n",
      "\n",
      "\n",
      "M bands raster size for 6140_1_2\n",
      "849 x 837 x 8\n",
      "\n",
      "\n",
      "A bands raster size for 6140_1_2\n",
      "136 x 134 x 8\n",
      "\n",
      "\n",
      "p bands raster size for 6140_1_2\n",
      "3396 x 3348 x 1\n",
      "\n",
      "\n",
      "3 bands raster size for 6110_3_1\n",
      "3396 x 3348 x 3\n",
      "\n",
      "\n",
      "M bands raster size for 6110_3_1\n",
      "849 x 837 x 8\n",
      "\n",
      "\n",
      "A bands raster size for 6110_3_1\n",
      "136 x 134 x 8\n",
      "\n",
      "\n",
      "p bands raster size for 6110_3_1\n",
      "3396 x 3348 x 1\n",
      "\n",
      "\n",
      "3 bands raster size for 6010_4_4\n",
      "3393 x 3345 x 3\n",
      "\n",
      "\n",
      "M bands raster size for 6010_4_4\n",
      "848 x 837 x 8\n",
      "\n",
      "\n",
      "A bands raster size for 6010_4_4\n",
      "135 x 134 x 8\n",
      "\n",
      "\n",
      "p bands raster size for 6010_4_4\n",
      "3392 x 3348 x 1\n",
      "\n",
      "\n",
      "3 bands raster size for 6170_2_4\n",
      "3389 x 3349 x 3\n",
      "\n",
      "\n",
      "M bands raster size for 6170_2_4\n",
      "848 x 837 x 8\n",
      "\n",
      "\n",
      "A bands raster size for 6170_2_4\n",
      "135 x 134 x 8\n",
      "\n",
      "\n",
      "p bands raster size for 6170_2_4\n",
      "3392 x 3348 x 1\n",
      "\n",
      "\n",
      "3 bands raster size for 6170_4_1\n",
      "3393 x 3345 x 3\n",
      "\n",
      "\n",
      "M bands raster size for 6170_4_1\n",
      "848 x 837 x 8\n",
      "\n",
      "\n",
      "A bands raster size for 6170_4_1\n",
      "136 x 134 x 8\n",
      "\n",
      "\n",
      "p bands raster size for 6170_4_1\n",
      "3392 x 3348 x 1\n",
      "\n",
      "\n",
      "3 bands raster size for 6170_0_4\n",
      "3389 x 3349 x 3\n",
      "\n",
      "\n",
      "M bands raster size for 6170_0_4\n",
      "848 x 837 x 8\n",
      "\n",
      "\n",
      "A bands raster size for 6170_0_4\n",
      "135 x 134 x 8\n",
      "\n",
      "\n",
      "p bands raster size for 6170_0_4\n",
      "3392 x 3348 x 1\n",
      "\n",
      "\n",
      "3 bands raster size for 6060_2_3\n",
      "3403 x 3348 x 3\n",
      "\n",
      "\n",
      "M bands raster size for 6060_2_3\n",
      "851 x 837 x 8\n",
      "\n",
      "\n",
      "A bands raster size for 6060_2_3\n",
      "136 x 134 x 8\n",
      "\n",
      "\n",
      "p bands raster size for 6060_2_3\n",
      "3404 x 3348 x 1\n",
      "\n",
      "\n",
      "3 bands raster size for 6070_2_3\n",
      "3338 x 3350 x 3\n",
      "\n",
      "\n",
      "M bands raster size for 6070_2_3\n",
      "835 x 838 x 8\n",
      "\n",
      "\n",
      "A bands raster size for 6070_2_3\n",
      "134 x 134 x 8\n",
      "\n",
      "\n",
      "p bands raster size for 6070_2_3\n",
      "3338 x 3349 x 1\n",
      "\n",
      "\n",
      "3 bands raster size for 6010_1_2\n",
      "3396 x 3349 x 3\n",
      "\n",
      "\n",
      "M bands raster size for 6010_1_2\n",
      "849 x 837 x 8\n",
      "\n",
      "\n",
      "A bands raster size for 6010_1_2\n",
      "136 x 134 x 8\n",
      "\n",
      "\n",
      "p bands raster size for 6010_1_2\n",
      "3396 x 3348 x 1\n",
      "\n",
      "\n",
      "3 bands raster size for 6040_4_4\n",
      "3387 x 3346 x 3\n",
      "\n",
      "\n",
      "M bands raster size for 6040_4_4\n",
      "846 x 837 x 8\n",
      "\n",
      "\n",
      "A bands raster size for 6040_4_4\n",
      "134 x 133 x 8\n",
      "\n",
      "\n",
      "p bands raster size for 6040_4_4\n",
      "3388 x 3348 x 1\n",
      "\n",
      "\n",
      "3 bands raster size for 6100_2_2\n",
      "3391 x 3349 x 3\n",
      "\n",
      "\n",
      "M bands raster size for 6100_2_2\n",
      "848 x 837 x 8\n",
      "\n",
      "\n",
      "A bands raster size for 6100_2_2\n",
      "136 x 134 x 8\n",
      "\n",
      "\n",
      "p bands raster size for 6100_2_2\n",
      "3391 x 3348 x 1\n",
      "\n",
      "\n"
     ]
    }
   ],
   "source": [
    "print 'Show rastersize for all 25 training images\\n'\n",
    "for train_image_id in train_list:\n",
    "    view_rastersize(train_image_id)\n",
    "    print '\\n'"
   ]
  },
  {
   "cell_type": "code",
   "execution_count": 55,
   "metadata": {
    "collapsed": false
   },
   "outputs": [
    {
     "name": "stdout",
     "output_type": "stream",
     "text": [
      "3 bands raster size for 6040_2_2\n",
      "3391 x 3349 x 3\n",
      "\n",
      "\n",
      "M bands raster size for 6040_2_2\n",
      "848 x 837 x 8\n",
      "\n",
      "\n",
      "A bands raster size for 6040_2_2\n",
      "136 x 134 x 8\n",
      "\n",
      "\n",
      "p bands raster size for 6040_2_2\n",
      "3391 x 3348 x 1\n"
     ]
    }
   ],
   "source": [
    "view_rastersize(train_list[0])"
   ]
  },
  {
   "cell_type": "code",
   "execution_count": 56,
   "metadata": {
    "collapsed": false
   },
   "outputs": [
    {
     "name": "stdout",
     "output_type": "stream",
     "text": [
      "3 bands raster size for 6120_2_2\n",
      "3403 x 3348 x 3\n",
      "\n",
      "\n",
      "M bands raster size for 6120_2_2\n",
      "851 x 837 x 8\n",
      "\n",
      "\n",
      "A bands raster size for 6120_2_2\n",
      "137 x 134 x 8\n",
      "\n",
      "\n",
      "p bands raster size for 6120_2_2\n",
      "3403 x 3348 x 1\n"
     ]
    }
   ],
   "source": [
    "view_rastersize(train_list[1])"
   ]
  },
  {
   "cell_type": "code",
   "execution_count": 57,
   "metadata": {
    "collapsed": false
   },
   "outputs": [
    {
     "name": "stdout",
     "output_type": "stream",
     "text": [
      "3 bands raster size for 6120_2_0\n",
      "3403 x 3348 x 3\n",
      "\n",
      "\n",
      "M bands raster size for 6120_2_0\n",
      "851 x 837 x 8\n",
      "\n",
      "\n",
      "A bands raster size for 6120_2_0\n",
      "137 x 134 x 8\n",
      "\n",
      "\n",
      "p bands raster size for 6120_2_0\n",
      "3403 x 3348 x 1\n"
     ]
    }
   ],
   "source": [
    "view_rastersize(train_list[2])"
   ]
  },
  {
   "cell_type": "code",
   "execution_count": 58,
   "metadata": {
    "collapsed": false
   },
   "outputs": [
    {
     "name": "stdout",
     "output_type": "stream",
     "text": [
      "3 bands raster size for 6090_2_0\n",
      "3393 x 3349 x 3\n",
      "\n",
      "\n",
      "M bands raster size for 6090_2_0\n",
      "848 x 837 x 8\n",
      "\n",
      "\n",
      "A bands raster size for 6090_2_0\n",
      "136 x 134 x 8\n",
      "\n",
      "\n",
      "p bands raster size for 6090_2_0\n",
      "3392 x 3348 x 1\n"
     ]
    }
   ],
   "source": [
    "view_rastersize(train_list[3])"
   ]
  },
  {
   "cell_type": "code",
   "execution_count": 59,
   "metadata": {
    "collapsed": false
   },
   "outputs": [
    {
     "name": "stdout",
     "output_type": "stream",
     "text": [
      "3 bands raster size for 6040_1_3\n",
      "3391 x 3349 x 3\n",
      "\n",
      "\n",
      "M bands raster size for 6040_1_3\n",
      "848 x 837 x 8\n",
      "\n",
      "\n",
      "A bands raster size for 6040_1_3\n",
      "136 x 134 x 8\n",
      "\n",
      "\n",
      "p bands raster size for 6040_1_3\n",
      "3391 x 3348 x 1\n"
     ]
    }
   ],
   "source": [
    "view_rastersize(train_list[4])"
   ]
  },
  {
   "cell_type": "code",
   "execution_count": 60,
   "metadata": {
    "collapsed": false
   },
   "outputs": [
    {
     "name": "stdout",
     "output_type": "stream",
     "text": [
      "3 bands raster size for 6040_1_0\n",
      "3391 x 3349 x 3\n",
      "\n",
      "\n",
      "M bands raster size for 6040_1_0\n",
      "848 x 837 x 8\n",
      "\n",
      "\n",
      "A bands raster size for 6040_1_0\n",
      "136 x 134 x 8\n",
      "\n",
      "\n",
      "p bands raster size for 6040_1_0\n",
      "3391 x 3348 x 1\n"
     ]
    }
   ],
   "source": [
    "view_rastersize(train_list[5])"
   ]
  },
  {
   "cell_type": "code",
   "execution_count": 61,
   "metadata": {
    "collapsed": false
   },
   "outputs": [
    {
     "name": "stdout",
     "output_type": "stream",
     "text": [
      "3 bands raster size for 6100_1_3\n",
      "3391 x 3349 x 3\n",
      "\n",
      "\n",
      "M bands raster size for 6100_1_3\n",
      "848 x 837 x 8\n",
      "\n",
      "\n",
      "A bands raster size for 6100_1_3\n",
      "136 x 134 x 8\n",
      "\n",
      "\n",
      "p bands raster size for 6100_1_3\n",
      "3391 x 3348 x 1\n"
     ]
    }
   ],
   "source": [
    "view_rastersize(train_list[6])"
   ]
  },
  {
   "cell_type": "code",
   "execution_count": 62,
   "metadata": {
    "collapsed": false
   },
   "outputs": [
    {
     "name": "stdout",
     "output_type": "stream",
     "text": [
      "3 bands raster size for 6010_4_2\n",
      "3396 x 3345 x 3\n",
      "\n",
      "\n",
      "M bands raster size for 6010_4_2\n",
      "849 x 837 x 8\n",
      "\n",
      "\n",
      "A bands raster size for 6010_4_2\n",
      "136 x 134 x 8\n",
      "\n",
      "\n",
      "p bands raster size for 6010_4_2\n",
      "3396 x 3348 x 1\n"
     ]
    }
   ],
   "source": [
    "view_rastersize(train_list[7])"
   ]
  },
  {
   "cell_type": "code",
   "execution_count": 63,
   "metadata": {
    "collapsed": false
   },
   "outputs": [
    {
     "name": "stdout",
     "output_type": "stream",
     "text": [
      "3 bands raster size for 6110_4_0\n",
      "3396 x 3348 x 3\n",
      "\n",
      "\n",
      "M bands raster size for 6110_4_0\n",
      "849 x 837 x 8\n",
      "\n",
      "\n",
      "A bands raster size for 6110_4_0\n",
      "136 x 134 x 8\n",
      "\n",
      "\n",
      "p bands raster size for 6110_4_0\n",
      "3396 x 3348 x 1\n"
     ]
    }
   ],
   "source": [
    "view_rastersize(train_list[8])"
   ]
  },
  {
   "cell_type": "code",
   "execution_count": 64,
   "metadata": {
    "collapsed": false
   },
   "outputs": [
    {
     "name": "stdout",
     "output_type": "stream",
     "text": [
      "3 bands raster size for 6140_3_1\n",
      "3396 x 3348 x 3\n",
      "\n",
      "\n",
      "M bands raster size for 6140_3_1\n",
      "849 x 837 x 8\n",
      "\n",
      "\n",
      "A bands raster size for 6140_3_1\n",
      "136 x 134 x 8\n",
      "\n",
      "\n",
      "p bands raster size for 6140_3_1\n",
      "3396 x 3348 x 1\n"
     ]
    }
   ],
   "source": [
    "view_rastersize(train_list[9])"
   ]
  },
  {
   "cell_type": "code",
   "execution_count": 65,
   "metadata": {
    "collapsed": false
   },
   "outputs": [
    {
     "name": "stdout",
     "output_type": "stream",
     "text": [
      "3 bands raster size for 6110_1_2\n",
      "3396 x 3348 x 3\n",
      "\n",
      "\n",
      "M bands raster size for 6110_1_2\n",
      "849 x 837 x 8\n",
      "\n",
      "\n",
      "A bands raster size for 6110_1_2\n",
      "136 x 134 x 8\n",
      "\n",
      "\n",
      "p bands raster size for 6110_1_2\n",
      "3396 x 3348 x 1\n"
     ]
    }
   ],
   "source": [
    "view_rastersize(train_list[10])"
   ]
  },
  {
   "cell_type": "code",
   "execution_count": 66,
   "metadata": {
    "collapsed": false
   },
   "outputs": [
    {
     "name": "stdout",
     "output_type": "stream",
     "text": [
      "3 bands raster size for 6100_2_3\n",
      "3391 x 3349 x 3\n",
      "\n",
      "\n",
      "M bands raster size for 6100_2_3\n",
      "848 x 837 x 8\n",
      "\n",
      "\n",
      "A bands raster size for 6100_2_3\n",
      "136 x 134 x 8\n",
      "\n",
      "\n",
      "p bands raster size for 6100_2_3\n",
      "3391 x 3348 x 1\n"
     ]
    }
   ],
   "source": [
    "view_rastersize(train_list[11])"
   ]
  },
  {
   "cell_type": "code",
   "execution_count": 67,
   "metadata": {
    "collapsed": false
   },
   "outputs": [
    {
     "name": "stdout",
     "output_type": "stream",
     "text": [
      "3 bands raster size for 6150_2_3\n",
      "3403 x 3348 x 3\n",
      "\n",
      "\n",
      "M bands raster size for 6150_2_3\n",
      "851 x 837 x 8\n",
      "\n",
      "\n",
      "A bands raster size for 6150_2_3\n",
      "137 x 134 x 8\n",
      "\n",
      "\n",
      "p bands raster size for 6150_2_3\n",
      "3403 x 3348 x 1\n"
     ]
    }
   ],
   "source": [
    "view_rastersize(train_list[12])"
   ]
  },
  {
   "cell_type": "code",
   "execution_count": 68,
   "metadata": {
    "collapsed": false
   },
   "outputs": [
    {
     "name": "stdout",
     "output_type": "stream",
     "text": [
      "3 bands raster size for 6160_2_1\n",
      "3393 x 3349 x 3\n",
      "\n",
      "\n",
      "M bands raster size for 6160_2_1\n",
      "848 x 837 x 8\n",
      "\n",
      "\n",
      "A bands raster size for 6160_2_1\n",
      "136 x 134 x 8\n",
      "\n",
      "\n",
      "p bands raster size for 6160_2_1\n",
      "3392 x 3348 x 1\n"
     ]
    }
   ],
   "source": [
    "view_rastersize(train_list[13])"
   ]
  },
  {
   "cell_type": "code",
   "execution_count": 69,
   "metadata": {
    "collapsed": false
   },
   "outputs": [
    {
     "name": "stdout",
     "output_type": "stream",
     "text": [
      "3 bands raster size for 6140_1_2\n",
      "3396 x 3348 x 3\n",
      "\n",
      "\n",
      "M bands raster size for 6140_1_2\n",
      "849 x 837 x 8\n",
      "\n",
      "\n",
      "A bands raster size for 6140_1_2\n",
      "136 x 134 x 8\n",
      "\n",
      "\n",
      "p bands raster size for 6140_1_2\n",
      "3396 x 3348 x 1\n"
     ]
    }
   ],
   "source": [
    "view_rastersize(train_list[14])"
   ]
  },
  {
   "cell_type": "code",
   "execution_count": 70,
   "metadata": {
    "collapsed": false
   },
   "outputs": [
    {
     "name": "stdout",
     "output_type": "stream",
     "text": [
      "3 bands raster size for 6110_3_1\n",
      "3396 x 3348 x 3\n",
      "\n",
      "\n",
      "M bands raster size for 6110_3_1\n",
      "849 x 837 x 8\n",
      "\n",
      "\n",
      "A bands raster size for 6110_3_1\n",
      "136 x 134 x 8\n",
      "\n",
      "\n",
      "p bands raster size for 6110_3_1\n",
      "3396 x 3348 x 1\n"
     ]
    }
   ],
   "source": [
    "view_rastersize(train_list[15])"
   ]
  },
  {
   "cell_type": "code",
   "execution_count": 71,
   "metadata": {
    "collapsed": false
   },
   "outputs": [
    {
     "name": "stdout",
     "output_type": "stream",
     "text": [
      "3 bands raster size for 6010_4_4\n",
      "3393 x 3345 x 3\n",
      "\n",
      "\n",
      "M bands raster size for 6010_4_4\n",
      "848 x 837 x 8\n",
      "\n",
      "\n",
      "A bands raster size for 6010_4_4\n",
      "135 x 134 x 8\n",
      "\n",
      "\n",
      "p bands raster size for 6010_4_4\n",
      "3392 x 3348 x 1\n"
     ]
    }
   ],
   "source": [
    "view_rastersize(train_list[16])"
   ]
  },
  {
   "cell_type": "code",
   "execution_count": 72,
   "metadata": {
    "collapsed": false
   },
   "outputs": [
    {
     "name": "stdout",
     "output_type": "stream",
     "text": [
      "3 bands raster size for 6170_2_4\n",
      "3389 x 3349 x 3\n",
      "\n",
      "\n",
      "M bands raster size for 6170_2_4\n",
      "848 x 837 x 8\n",
      "\n",
      "\n",
      "A bands raster size for 6170_2_4\n",
      "135 x 134 x 8\n",
      "\n",
      "\n",
      "p bands raster size for 6170_2_4\n",
      "3392 x 3348 x 1\n"
     ]
    }
   ],
   "source": [
    "view_rastersize(train_list[17])"
   ]
  },
  {
   "cell_type": "code",
   "execution_count": 73,
   "metadata": {
    "collapsed": false
   },
   "outputs": [
    {
     "name": "stdout",
     "output_type": "stream",
     "text": [
      "3 bands raster size for 6170_4_1\n",
      "3393 x 3345 x 3\n",
      "\n",
      "\n",
      "M bands raster size for 6170_4_1\n",
      "848 x 837 x 8\n",
      "\n",
      "\n",
      "A bands raster size for 6170_4_1\n",
      "136 x 134 x 8\n",
      "\n",
      "\n",
      "p bands raster size for 6170_4_1\n",
      "3392 x 3348 x 1\n"
     ]
    }
   ],
   "source": [
    "view_rastersize(train_list[18])"
   ]
  },
  {
   "cell_type": "code",
   "execution_count": 74,
   "metadata": {
    "collapsed": false
   },
   "outputs": [
    {
     "name": "stdout",
     "output_type": "stream",
     "text": [
      "3 bands raster size for 6170_0_4\n",
      "3389 x 3349 x 3\n",
      "\n",
      "\n",
      "M bands raster size for 6170_0_4\n",
      "848 x 837 x 8\n",
      "\n",
      "\n",
      "A bands raster size for 6170_0_4\n",
      "135 x 134 x 8\n",
      "\n",
      "\n",
      "p bands raster size for 6170_0_4\n",
      "3392 x 3348 x 1\n"
     ]
    }
   ],
   "source": [
    "view_rastersize(train_list[19])"
   ]
  },
  {
   "cell_type": "code",
   "execution_count": 75,
   "metadata": {
    "collapsed": false
   },
   "outputs": [
    {
     "name": "stdout",
     "output_type": "stream",
     "text": [
      "3 bands raster size for 6060_2_3\n",
      "3403 x 3348 x 3\n",
      "\n",
      "\n",
      "M bands raster size for 6060_2_3\n",
      "851 x 837 x 8\n",
      "\n",
      "\n",
      "A bands raster size for 6060_2_3\n",
      "136 x 134 x 8\n",
      "\n",
      "\n",
      "p bands raster size for 6060_2_3\n",
      "3404 x 3348 x 1\n"
     ]
    }
   ],
   "source": [
    "view_rastersize(train_list[20])"
   ]
  },
  {
   "cell_type": "code",
   "execution_count": 76,
   "metadata": {
    "collapsed": false
   },
   "outputs": [
    {
     "name": "stdout",
     "output_type": "stream",
     "text": [
      "3 bands raster size for 6070_2_3\n",
      "3338 x 3350 x 3\n",
      "\n",
      "\n",
      "M bands raster size for 6070_2_3\n",
      "835 x 838 x 8\n",
      "\n",
      "\n",
      "A bands raster size for 6070_2_3\n",
      "134 x 134 x 8\n",
      "\n",
      "\n",
      "p bands raster size for 6070_2_3\n",
      "3338 x 3349 x 1\n"
     ]
    }
   ],
   "source": [
    "view_rastersize(train_list[21])"
   ]
  },
  {
   "cell_type": "code",
   "execution_count": 77,
   "metadata": {
    "collapsed": false
   },
   "outputs": [
    {
     "name": "stdout",
     "output_type": "stream",
     "text": [
      "3 bands raster size for 6010_1_2\n",
      "3396 x 3349 x 3\n",
      "\n",
      "\n",
      "M bands raster size for 6010_1_2\n",
      "849 x 837 x 8\n",
      "\n",
      "\n",
      "A bands raster size for 6010_1_2\n",
      "136 x 134 x 8\n",
      "\n",
      "\n",
      "p bands raster size for 6010_1_2\n",
      "3396 x 3348 x 1\n"
     ]
    }
   ],
   "source": [
    "view_rastersize(train_list[22])"
   ]
  },
  {
   "cell_type": "code",
   "execution_count": 78,
   "metadata": {
    "collapsed": false
   },
   "outputs": [
    {
     "name": "stdout",
     "output_type": "stream",
     "text": [
      "3 bands raster size for 6040_4_4\n",
      "3387 x 3346 x 3\n",
      "\n",
      "\n",
      "M bands raster size for 6040_4_4\n",
      "846 x 837 x 8\n",
      "\n",
      "\n",
      "A bands raster size for 6040_4_4\n",
      "134 x 133 x 8\n",
      "\n",
      "\n",
      "p bands raster size for 6040_4_4\n",
      "3388 x 3348 x 1\n"
     ]
    }
   ],
   "source": [
    "view_rastersize(train_list[23])"
   ]
  },
  {
   "cell_type": "code",
   "execution_count": 79,
   "metadata": {
    "collapsed": false
   },
   "outputs": [
    {
     "name": "stdout",
     "output_type": "stream",
     "text": [
      "3 bands raster size for 6100_2_2\n",
      "3391 x 3349 x 3\n",
      "\n",
      "\n",
      "M bands raster size for 6100_2_2\n",
      "848 x 837 x 8\n",
      "\n",
      "\n",
      "A bands raster size for 6100_2_2\n",
      "136 x 134 x 8\n",
      "\n",
      "\n",
      "p bands raster size for 6100_2_2\n",
      "3391 x 3348 x 1\n"
     ]
    }
   ],
   "source": [
    "view_rastersize(train_list[24])"
   ]
  },
  {
   "cell_type": "markdown",
   "metadata": {},
   "source": [
    "# Try unify the size of the image"
   ]
  },
  {
   "cell_type": "code",
   "execution_count": 93,
   "metadata": {
    "collapsed": false
   },
   "outputs": [],
   "source": [
    "def size_transfer (image_id):\n",
    "    \n",
    "    \n",
    "    image_initial = tiff.imread('satellite_image/sixteen_band/{}.tif'.format(image_id + '_A')).transpose([1, 2, 0])\n",
    "    print image_initial.shape\n",
    "    initial_x1 = image_initial.shape[0]\n",
    "    initial_x2 = image_initial.shape[1]\n",
    "    print (\"Initial size for %s is %d x %d\" %(image_id,initial_x1,initial_x2))\n",
    "    \n",
    "    image_final = tiff.imread('satellite_image/sixteen_band/{}.tif'.format(image_id + '_M')).transpose([1, 2, 0])\n",
    "    print image_final.shape\n",
    "    final_x1 = image_final.shape[0]\n",
    "    final_x2 = image_final.shape[1]\n",
    "    print (\"Final size for %s is %d x %d\" %(image_id,final_x1,final_x2))\n",
    "    \n",
    "    \n",
    "    \n",
    "    \n",
    "    "
   ]
  },
  {
   "cell_type": "code",
   "execution_count": 94,
   "metadata": {
    "collapsed": false
   },
   "outputs": [
    {
     "name": "stdout",
     "output_type": "stream",
     "text": [
      "(134, 136, 8)\n",
      "Initial size for 6040_2_2 is 134 x 136\n",
      "(837, 848, 8)\n",
      "Final size for 6040_2_2 is 837 x 848\n"
     ]
    }
   ],
   "source": [
    "size_transfer (train_list[0])"
   ]
  },
  {
   "cell_type": "code",
   "execution_count": 104,
   "metadata": {
    "collapsed": false
   },
   "outputs": [
    {
     "name": "stdout",
     "output_type": "stream",
     "text": [
      "[[ 0.  0.  0.  0.]\n",
      " [ 0.  0.  0.  0.]\n",
      " [ 0.  0.  0.  0.]\n",
      " [ 0.  0.  0.  0.]\n",
      " [ 0.  0.  0.  0.]\n",
      " [ 0.  0.  0.  0.]]\n"
     ]
    }
   ],
   "source": [
    "A = np.zeros((6,4))\n",
    "print A\n",
    "A1 = 6\n",
    "A2 = 4"
   ]
  },
  {
   "cell_type": "code",
   "execution_count": 105,
   "metadata": {
    "collapsed": false
   },
   "outputs": [],
   "source": [
    "B = np.array([[1,3],[2,4],[5,7]])\n",
    "B1 = 3\n",
    "B2 =2"
   ]
  },
  {
   "cell_type": "code",
   "execution_count": 106,
   "metadata": {
    "collapsed": false
   },
   "outputs": [
    {
     "name": "stdout",
     "output_type": "stream",
     "text": [
      "[[1 3]\n",
      " [2 4]\n",
      " [5 7]]\n"
     ]
    }
   ],
   "source": [
    "print B"
   ]
  },
  {
   "cell_type": "code",
   "execution_count": 109,
   "metadata": {
    "collapsed": false
   },
   "outputs": [
    {
     "name": "stdout",
     "output_type": "stream",
     "text": [
      "2.0\n"
     ]
    }
   ],
   "source": [
    "print (A1/B1)"
   ]
  },
  {
   "cell_type": "code",
   "execution_count": null,
   "metadata": {
    "collapsed": false
   },
   "outputs": [],
   "source": []
  },
  {
   "cell_type": "code",
   "execution_count": null,
   "metadata": {
    "collapsed": true
   },
   "outputs": [],
   "source": []
  }
 ],
 "metadata": {
  "kernelspec": {
   "display_name": "Python [conda root]",
   "language": "python",
   "name": "conda-root-py"
  },
  "language_info": {
   "codemirror_mode": {
    "name": "ipython",
    "version": 2
   },
   "file_extension": ".py",
   "mimetype": "text/x-python",
   "name": "python",
   "nbconvert_exporter": "python",
   "pygments_lexer": "ipython2",
   "version": "2.7.12"
  }
 },
 "nbformat": 4,
 "nbformat_minor": 1
}
